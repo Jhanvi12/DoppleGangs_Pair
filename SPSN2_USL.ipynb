{
  "nbformat": 4,
  "nbformat_minor": 0,
  "metadata": {
    "colab": {
      "name": "SPSN2_USL.ipynb",
      "provenance": [],
      "collapsed_sections": []
    },
    "kernelspec": {
      "name": "python3",
      "display_name": "Python 3"
    }
  },
  "cells": [
    {
      "cell_type": "code",
      "metadata": {
        "id": "JPwTfsnzwpOV",
        "outputId": "4cb8de64-dd44-460e-99eb-1b5fb76457a4",
        "colab": {
          "base_uri": "https://localhost:8080/"
        }
      },
      "source": [
        "!pip install tweepy\n"
      ],
      "execution_count": 1,
      "outputs": [
        {
          "output_type": "stream",
          "text": [
            "Requirement already satisfied: tweepy in /usr/local/lib/python3.6/dist-packages (3.6.0)\n",
            "Requirement already satisfied: PySocks>=1.5.7 in /usr/local/lib/python3.6/dist-packages (from tweepy) (1.7.1)\n",
            "Requirement already satisfied: six>=1.10.0 in /usr/local/lib/python3.6/dist-packages (from tweepy) (1.15.0)\n",
            "Requirement already satisfied: requests-oauthlib>=0.7.0 in /usr/local/lib/python3.6/dist-packages (from tweepy) (1.3.0)\n",
            "Requirement already satisfied: requests>=2.11.1 in /usr/local/lib/python3.6/dist-packages (from tweepy) (2.23.0)\n",
            "Requirement already satisfied: oauthlib>=3.0.0 in /usr/local/lib/python3.6/dist-packages (from requests-oauthlib>=0.7.0->tweepy) (3.1.0)\n",
            "Requirement already satisfied: certifi>=2017.4.17 in /usr/local/lib/python3.6/dist-packages (from requests>=2.11.1->tweepy) (2020.6.20)\n",
            "Requirement already satisfied: urllib3!=1.25.0,!=1.25.1,<1.26,>=1.21.1 in /usr/local/lib/python3.6/dist-packages (from requests>=2.11.1->tweepy) (1.24.3)\n",
            "Requirement already satisfied: idna<3,>=2.5 in /usr/local/lib/python3.6/dist-packages (from requests>=2.11.1->tweepy) (2.10)\n",
            "Requirement already satisfied: chardet<4,>=3.0.2 in /usr/local/lib/python3.6/dist-packages (from requests>=2.11.1->tweepy) (3.0.4)\n"
          ],
          "name": "stdout"
        }
      ]
    },
    {
      "cell_type": "code",
      "metadata": {
        "id": "OJKyMeMawwGl"
      },
      "source": [
        "import tweepy                   # Python wrapper around Twitter API\n",
        "from google.colab import drive  # to mount Drive to Colab notebook\n",
        "import json\n",
        "import csv\n",
        "from datetime import date\n",
        "from datetime import datetime\n",
        "import time\n",
        "import pandas as pd"
      ],
      "execution_count": 2,
      "outputs": []
    },
    {
      "cell_type": "code",
      "metadata": {
        "id": "yPUWZFI4wzWP"
      },
      "source": [
        "# Connect Google Drive to Colab\n",
        "drive.mount('/content/gdrive')\n",
        "# Create a variable to store the"
      ],
      "execution_count": null,
      "outputs": []
    },
    {
      "cell_type": "code",
      "metadata": {
        "id": "aktbTLpuw84y"
      },
      "source": [
        "path = '/content/gdrive/My Drive/SPSN/'"
      ],
      "execution_count": 4,
      "outputs": []
    },
    {
      "cell_type": "code",
      "metadata": {
        "id": "WmXqwVftw_BI"
      },
      "source": [
        "import sys\n",
        "sys.path.append('/content/gdrive/My Drive/SPSN/')"
      ],
      "execution_count": 6,
      "outputs": []
    },
    {
      "cell_type": "code",
      "metadata": {
        "id": "jmALYToCxDYY"
      },
      "source": [
        "from secret_ass2 import *"
      ],
      "execution_count": 7,
      "outputs": []
    },
    {
      "cell_type": "code",
      "metadata": {
        "id": "PfBxjMXCxGKN",
        "outputId": "0a6a799c-d0f8-491e-eaae-9d64d1fe03b9",
        "colab": {
          "base_uri": "https://localhost:8080/"
        }
      },
      "source": [
        "# Connect to Twitter API using the secrets\n",
        "auth = tweepy.OAuthHandler(api_key, api_secret)\n",
        "auth.set_access_token(access_token, access_secret)\n",
        "api = tweepy.API(auth)\n",
        "try:\n",
        "    api.verify_credentials()\n",
        "    print(\"Authentication OK\")\n",
        "except:\n",
        "    print(\"Error during authentication\")"
      ],
      "execution_count": 8,
      "outputs": [
        {
          "output_type": "stream",
          "text": [
            "Authentication OK\n"
          ],
          "name": "stdout"
        }
      ]
    },
    {
      "cell_type": "code",
      "metadata": {
        "id": "RwKFVL27xLWg",
        "outputId": "798f2c57-ba0c-4e52-cca2-e589884dedb2",
        "colab": {
          "base_uri": "https://localhost:8080/"
        }
      },
      "source": [
        "queryword = \"amitabh bachchan\"\n",
        "users = api.search_users(queryword)\n",
        "screenname_array1=[user.screen_name for user in users]\n",
        "print(screenname_array1)\n",
        "tl = pd.DataFrame(screenname_array1)\n",
        "\n",
        "\n",
        "\n",
        "\n",
        "userid_array2=[user.id for user in users]\n",
        "print(userid_array2)\n",
        "tl1=pd.DataFrame(userid_array2)\n",
        "\n",
        "\n",
        "\n",
        "createdat_array3=[user.created_at for user in users]\n",
        "print(createdat_array3)\n",
        "tl2=pd.DataFrame(createdat_array3)\n",
        "\n",
        "\n",
        "userlocation_array4=[user.location for user in users]\n",
        "print(userlocation_array4)\n",
        "tl3=pd.DataFrame(userlocation_array4)\n",
        "\n",
        "\n",
        "userdescription_array5=[user.description for user in users]\n",
        "print(userdescription_array5)\n",
        "tl4=pd.DataFrame(userdescription_array5)\n",
        "\n",
        "\n",
        "username_array6=[user.name for user in users]\n",
        "print(username_array6)\n",
        "tl5=pd.DataFrame(username_array6)\n",
        "\n",
        "userfollowerscount_array7=[user.followers_count for user in users]\n",
        "print(userfollowerscount_array7)\n",
        "tl6=pd.DataFrame(userfollowerscount_array7)\n"
      ],
      "execution_count": 9,
      "outputs": [
        {
          "output_type": "stream",
          "text": [
            "['SrBachchan', 'EFSENAROCKS', 'prashantkawadia', 'ABFAIndia', 'SrBachchanclub', 'OneManIndustry', 'MosesSapir', 'AmitKBhatt2', 'AbhiAsh_IndoFc', 'addzz8', 'yadavsunanda08', 'MaliAshishABEF', 'MilanMehta_AB', 'iam_Jitu', 'shubhijha', 'IAMSANTONU', 'ilanasegev37', 'RoHiTBhUtoRIa', 'OxanaChernavski', 'MOUSUMI_EF']\n",
            "[145125358, 165448626, 363188892, 960860944875188226, 920305972635037696, 1978386403, 96613617, 988491670282014721, 1113976070, 145934849, 2754315743, 607860151, 959398171922313217, 353607637, 145226295, 1418157938, 265928625, 74353995, 1023093346326257664, 1407612847]\n",
            "[datetime.datetime(2010, 5, 18, 5, 16, 47), datetime.datetime(2010, 7, 11, 16, 9, 15), datetime.datetime(2011, 8, 27, 17, 38, 16), datetime.datetime(2018, 2, 6, 13, 1, 15), datetime.datetime(2017, 10, 17, 15, 10, 17), datetime.datetime(2013, 10, 21, 11, 10, 25), datetime.datetime(2009, 12, 13, 19, 54, 50), datetime.datetime(2018, 4, 23, 18, 55, 54), datetime.datetime(2013, 1, 23, 9, 49, 27), datetime.datetime(2010, 5, 20, 6, 43, 52), datetime.datetime(2014, 8, 29, 9, 31, 57), datetime.datetime(2012, 6, 14, 5, 42, 41), datetime.datetime(2018, 2, 2, 12, 8, 43), datetime.datetime(2011, 8, 12, 10, 32, 44), datetime.datetime(2010, 5, 18, 12, 37, 33), datetime.datetime(2013, 5, 10, 13, 43, 14), datetime.datetime(2011, 3, 14, 10, 55, 30), datetime.datetime(2009, 9, 15, 3, 30, 50), datetime.datetime(2018, 7, 28, 6, 30, 36), datetime.datetime(2013, 5, 6, 12, 14, 45)]\n",
            "['Mumbai, India', 'India ', 'Mumbai, India', 'Mumbai, India', 'Worldwide', 'London', 'Israel', 'Vadodara, Gujarat', 'Indonesia', 'India , Joined Twitter May2010', 'Kolkata,India', 'Kolkata, India 🇮🇳', 'Surat, India', 'Kolkata, INDIA 🇮🇳', 'gurgaon', 'Kolkata, West Bengal', 'Ashdod Israel', 'Kolkata', 'Russia ', 'Kolkata']\n",
            "['\"तुमने हमें पूज पूज कर पत्थर कर डाला ; वे जो हमपर जुमले कसते हैं हमें ज़िंदा तो समझते हैं \"~  हरिवंश राय  बच्चन', 'The Extended Family Of Mr. Amitabh Bachchan', 'मैं छुपाना जानता तो जग मुझे साधु समझता, शत्रु मेरा बन गया है छल-रहित व्यवहार मेरा.. ~ बाबूजी श्री हरिवंशराय बच्चन जी 💖', 'In devotion of our infinite love, gratitude & appreciation to our beloved 😍  Daa 😍 Jai Shri Amitabh 🙏 #ABFA', 'FAN CLUB of @SrBachchan sir !!', 'Amitabh Bachchan Unofficial website and Facebook page is now expanded to include Twitter ....', \"ISG Media Ltd -TV Channel's Management - Israel 🇮🇱 I Love Amitabh Bachchan\", 'Amitabh Bachchan is my Idol, I admire & respect him.. being blessed with the follow back on 31.07.2018 by the Living Legend Honourable Shri Amitabh Bachchan...', 'Abhishek - Aishwarya Bachchan Biggest and Proud Fans from Indonesia... Amitabh Bachchan our GURU...Here JUST and ONLY for ABHIASH', \"I don't know how to not love you my Sire Mr. Amitabh Bachchan I only know how to not let you go...\", 'Big Fan Of Amitabh Bachchan..\\nBeing Blessed with His Followback On 5th July 2016. Love you @SrBachchan 😘😘💕💕💞💞💖💖', 'No Past No Future Just Now, My Love Amitabh Bachchan Sir Today 28th July 2017 follow back me!! @SrBachchan😘👌', 'Graphics Designer & Social Activist & Big Fan of  Amitabh Bachchan sir ji #ABEFteam. \\n@SrBachchan ji Lots Of Love🆎 Sir Follow  Back On 28 July 2018 - 8.20 pm', 'नमस्ते सदा वत्सले मातृभूमे 🚩 || Fortunate EF of My Inspiration, Sir Amitabh Bachchan Ji || Sachinist Forever || Karma Believer & Simply Being Me 🤗', 'Architect,Animal lover,Budding Photographer & a big fan of THE Amitabh Bachchan! ;-) & No im not letting strangers follow me!', 'I Admirer #Amitabh Bachchan & Blessed to be Followed by @srbachchan . Love #PowerBuilder,  #Photography', \"A singer ,A Mother, Amitabh Bachchan's EF.\\nA Gori who has a Desi soul 👌😉\", 'I AM A DIE HARD FAN OF AMITABH BACHCHAN', 'Amitabh Bachchan 💗', 'Big Fan Of BigB.I love @srbachchan .He is my Idol. Being followed by our one and only Amitabh Bachchan .I am here for him _(())_ https://t.co/bdu7d42LXz']\n",
            "['Amitabh Bachchan', 'Amitabh Bachchan EF', 'THUGS OF 𝐀𝐦𝐢𝐭𝐚𝐛𝐡 𝐁𝐚𝐜𝐡𝐜𝐡𝐚𝐧 🇮🇳', \"Amitabh Bachchan Fans' Association - Official\", 'Amitabh Bachchan FC™', 'Amitabh Bachchan Fan', 'Moses Sapir', 'Amit Bhatt - EF 🇮🇳', 'AbhishekAishwaryaLuv', 'aditi', 'Sunanda Yadav', 'Ashish Mali🆎EF', 'Milan Mehta #ABEFteam', 'Jitendra Jain', 'shubhi jha', 'Santonu Mukherjee', 'ILANA SEGEV- SINGER', 'RoHiT #ABFAKOLKATA', 'Oxana Chernavskikh', 'Mousumi Mukherjee']\n",
            "[44659119, 10472, 11364, 6550, 8933, 9095, 31013, 1374, 32039, 10491, 9727, 2269, 1012, 11621, 176, 3813, 9441, 2408, 464, 5612]\n"
          ],
          "name": "stdout"
        }
      ]
    },
    {
      "cell_type": "code",
      "metadata": {
        "id": "8x0YtCy_xXXy",
        "outputId": "c0545ee0-e987-4ca2-da0e-5f599c0e98ee",
        "colab": {
          "base_uri": "https://localhost:8080/"
        }
      },
      "source": [
        "import numpy as np\n",
        "combined_array = np.array([screenname_array1,userid_array2,createdat_array3,userlocation_array4,userdescription_array5,username_array6,userfollowerscount_array7]).T\n",
        "print(combined_array) #will use as X later\n",
        "df2 = pd.DataFrame(np.array([screenname_array1,userid_array2,createdat_array3,userlocation_array4,userdescription_array5,username_array6,userfollowerscount_array7])).T\n",
        "df2.columns = ['ScreenName', 'Id', 'CreatedDate', 'Location','Description','Name','FollowersCount']\n",
        "\n",
        "print(df2)\n",
        "#X = combined_array\n",
        "#y = [2,2,2,1,1,0,1,0,0,0,0,0,0,2,1,0,0,1,0,2]\n",
        "\n",
        "df2.to_csv(r'/content/gdrive/My Drive/SPSN/DFamitbachan_usl.csv',index=None, sep='\\t', mode='a')"
      ],
      "execution_count": 10,
      "outputs": [
        {
          "output_type": "stream",
          "text": [
            "[['SrBachchan' 145125358 datetime.datetime(2010, 5, 18, 5, 16, 47)\n",
            "  'Mumbai, India'\n",
            "  '\"तुमने हमें पूज पूज कर पत्थर कर डाला ; वे जो हमपर जुमले कसते हैं हमें ज़िंदा तो समझते हैं \"~  हरिवंश राय  बच्चन'\n",
            "  'Amitabh Bachchan' 44659119]\n",
            " ['EFSENAROCKS' 165448626 datetime.datetime(2010, 7, 11, 16, 9, 15)\n",
            "  'India ' 'The Extended Family Of Mr. Amitabh Bachchan'\n",
            "  'Amitabh Bachchan EF' 10472]\n",
            " ['prashantkawadia' 363188892 datetime.datetime(2011, 8, 27, 17, 38, 16)\n",
            "  'Mumbai, India'\n",
            "  'मैं छुपाना जानता तो जग मुझे साधु समझता, शत्रु मेरा बन गया है छल-रहित व्यवहार मेरा.. ~ बाबूजी श्री हरिवंशराय बच्चन जी 💖'\n",
            "  'THUGS OF 𝐀𝐦𝐢𝐭𝐚𝐛𝐡 𝐁𝐚𝐜𝐡𝐜𝐡𝐚𝐧 🇮🇳' 11364]\n",
            " ['ABFAIndia' 960860944875188226 datetime.datetime(2018, 2, 6, 13, 1, 15)\n",
            "  'Mumbai, India'\n",
            "  'In devotion of our infinite love, gratitude & appreciation to our beloved 😍  Daa 😍 Jai Shri Amitabh 🙏 #ABFA'\n",
            "  \"Amitabh Bachchan Fans' Association - Official\" 6550]\n",
            " ['SrBachchanclub' 920305972635037696\n",
            "  datetime.datetime(2017, 10, 17, 15, 10, 17) 'Worldwide'\n",
            "  'FAN CLUB of @SrBachchan sir !!' 'Amitabh Bachchan FC™' 8933]\n",
            " ['OneManIndustry' 1978386403 datetime.datetime(2013, 10, 21, 11, 10, 25)\n",
            "  'London'\n",
            "  'Amitabh Bachchan Unofficial website and Facebook page is now expanded to include Twitter ....'\n",
            "  'Amitabh Bachchan Fan' 9095]\n",
            " ['MosesSapir' 96613617 datetime.datetime(2009, 12, 13, 19, 54, 50)\n",
            "  'Israel'\n",
            "  \"ISG Media Ltd -TV Channel's Management - Israel 🇮🇱 I Love Amitabh Bachchan\"\n",
            "  'Moses Sapir' 31013]\n",
            " ['AmitKBhatt2' 988491670282014721\n",
            "  datetime.datetime(2018, 4, 23, 18, 55, 54) 'Vadodara, Gujarat'\n",
            "  'Amitabh Bachchan is my Idol, I admire & respect him.. being blessed with the follow back on 31.07.2018 by the Living Legend Honourable Shri Amitabh Bachchan...'\n",
            "  'Amit Bhatt - EF 🇮🇳' 1374]\n",
            " ['AbhiAsh_IndoFc' 1113976070 datetime.datetime(2013, 1, 23, 9, 49, 27)\n",
            "  'Indonesia'\n",
            "  'Abhishek - Aishwarya Bachchan Biggest and Proud Fans from Indonesia... Amitabh Bachchan our GURU...Here JUST and ONLY for ABHIASH'\n",
            "  'AbhishekAishwaryaLuv' 32039]\n",
            " ['addzz8' 145934849 datetime.datetime(2010, 5, 20, 6, 43, 52)\n",
            "  'India , Joined Twitter May2010'\n",
            "  \"I don't know how to not love you my Sire Mr. Amitabh Bachchan I only know how to not let you go...\"\n",
            "  'aditi' 10491]\n",
            " ['yadavsunanda08' 2754315743 datetime.datetime(2014, 8, 29, 9, 31, 57)\n",
            "  'Kolkata,India'\n",
            "  'Big Fan Of Amitabh Bachchan..\\nBeing Blessed with His Followback On 5th July 2016. Love you @SrBachchan 😘😘💕💕💞💞💖💖'\n",
            "  'Sunanda Yadav' 9727]\n",
            " ['MaliAshishABEF' 607860151 datetime.datetime(2012, 6, 14, 5, 42, 41)\n",
            "  'Kolkata, India 🇮🇳'\n",
            "  'No Past No Future Just Now, My Love Amitabh Bachchan Sir Today 28th July 2017 follow back me!! @SrBachchan😘👌'\n",
            "  'Ashish Mali🆎EF' 2269]\n",
            " ['MilanMehta_AB' 959398171922313217\n",
            "  datetime.datetime(2018, 2, 2, 12, 8, 43) 'Surat, India'\n",
            "  'Graphics Designer & Social Activist & Big Fan of  Amitabh Bachchan sir ji #ABEFteam. \\n@SrBachchan ji Lots Of Love🆎 Sir Follow  Back On 28 July 2018 - 8.20 pm'\n",
            "  'Milan Mehta #ABEFteam' 1012]\n",
            " ['iam_Jitu' 353607637 datetime.datetime(2011, 8, 12, 10, 32, 44)\n",
            "  'Kolkata, INDIA 🇮🇳'\n",
            "  'नमस्ते सदा वत्सले मातृभूमे 🚩 || Fortunate EF of My Inspiration, Sir Amitabh Bachchan Ji || Sachinist Forever || Karma Believer & Simply Being Me 🤗'\n",
            "  'Jitendra Jain' 11621]\n",
            " ['shubhijha' 145226295 datetime.datetime(2010, 5, 18, 12, 37, 33)\n",
            "  'gurgaon'\n",
            "  'Architect,Animal lover,Budding Photographer & a big fan of THE Amitabh Bachchan! ;-) & No im not letting strangers follow me!'\n",
            "  'shubhi jha' 176]\n",
            " ['IAMSANTONU' 1418157938 datetime.datetime(2013, 5, 10, 13, 43, 14)\n",
            "  'Kolkata, West Bengal'\n",
            "  'I Admirer #Amitabh Bachchan & Blessed to be Followed by @srbachchan . Love #PowerBuilder,  #Photography'\n",
            "  'Santonu Mukherjee' 3813]\n",
            " ['ilanasegev37' 265928625 datetime.datetime(2011, 3, 14, 10, 55, 30)\n",
            "  'Ashdod Israel'\n",
            "  \"A singer ,A Mother, Amitabh Bachchan's EF.\\nA Gori who has a Desi soul 👌😉\"\n",
            "  'ILANA SEGEV- SINGER' 9441]\n",
            " ['RoHiTBhUtoRIa' 74353995 datetime.datetime(2009, 9, 15, 3, 30, 50)\n",
            "  'Kolkata' 'I AM A DIE HARD FAN OF AMITABH BACHCHAN'\n",
            "  'RoHiT #ABFAKOLKATA' 2408]\n",
            " ['OxanaChernavski' 1023093346326257664\n",
            "  datetime.datetime(2018, 7, 28, 6, 30, 36) 'Russia '\n",
            "  'Amitabh Bachchan 💗' 'Oxana Chernavskikh' 464]\n",
            " ['MOUSUMI_EF' 1407612847 datetime.datetime(2013, 5, 6, 12, 14, 45)\n",
            "  'Kolkata'\n",
            "  'Big Fan Of BigB.I love @srbachchan .He is my Idol. Being followed by our one and only Amitabh Bachchan .I am here for him _(())_ https://t.co/bdu7d42LXz'\n",
            "  'Mousumi Mukherjee' 5612]]\n",
            "         ScreenName  ... FollowersCount\n",
            "0        SrBachchan  ...       44659119\n",
            "1       EFSENAROCKS  ...          10472\n",
            "2   prashantkawadia  ...          11364\n",
            "3         ABFAIndia  ...           6550\n",
            "4    SrBachchanclub  ...           8933\n",
            "5    OneManIndustry  ...           9095\n",
            "6        MosesSapir  ...          31013\n",
            "7       AmitKBhatt2  ...           1374\n",
            "8    AbhiAsh_IndoFc  ...          32039\n",
            "9            addzz8  ...          10491\n",
            "10   yadavsunanda08  ...           9727\n",
            "11   MaliAshishABEF  ...           2269\n",
            "12    MilanMehta_AB  ...           1012\n",
            "13         iam_Jitu  ...          11621\n",
            "14        shubhijha  ...            176\n",
            "15       IAMSANTONU  ...           3813\n",
            "16     ilanasegev37  ...           9441\n",
            "17    RoHiTBhUtoRIa  ...           2408\n",
            "18  OxanaChernavski  ...            464\n",
            "19       MOUSUMI_EF  ...           5612\n",
            "\n",
            "[20 rows x 7 columns]\n"
          ],
          "name": "stdout"
        }
      ]
    },
    {
      "cell_type": "code",
      "metadata": {
        "id": "T2ffuY8Txm_-",
        "outputId": "d290c24d-00c2-4bc4-cc66-225d4a203b53",
        "colab": {
          "base_uri": "https://localhost:8080/"
        }
      },
      "source": [
        "#string data to int block\n",
        "import matplotlib.pyplot as plt\n",
        "from matplotlib import style\n",
        "style.use('ggplot')\n",
        "import numpy as np\n",
        "from sklearn.cluster import KMeans\n",
        "from sklearn import preprocessing\n",
        "import pandas as pd\n",
        "from sklearn.preprocessing import LabelEncoder\n",
        "\n",
        "\n",
        "#df2.drop(['CreatedDate', 'Description'], axis=1)\n",
        "\n",
        "X = df2[['ScreenName', 'Id','Location','Name','FollowersCount']].values\n",
        "\n",
        "color_le = LabelEncoder()\n",
        "#converting all string data to numbers\n",
        "\n",
        "X[:, 0] = color_le.fit_transform(X[:, 0])\n",
        "X[:,2]=color_le.fit_transform(X[:, 2])\n",
        "X[:,3]=color_le.fit_transform(X[:, 3])\n",
        "print(X) #converted the screen names to integer for easy calculation\n",
        "\n",
        "data=pd.DataFrame(X) #converting X array to dataframe data\n",
        "print(data)"
      ],
      "execution_count": 31,
      "outputs": [
        {
          "output_type": "stream",
          "text": [
            "[[12 145125358 11 2 44659119]\n",
            " [3 165448626 1 3 10472]\n",
            " [17 363188892 11 17 11364]\n",
            " [0 960860944875188226 11 6 6550]\n",
            " [13 920305972635037696 15 4 8933]\n",
            " [9 1978386403 10 5 9095]\n",
            " [8 96613617 4 11 31013]\n",
            " [2 988491670282014721 14 1 1374]\n",
            " [1 1113976070 3 0 32039]\n",
            " [14 145934849 2 18 10491]\n",
            " [19 2754315743 9 16 9727]\n",
            " [6 607860151 7 7 2269]\n",
            " [7 959398171922313217 13 10 1012]\n",
            " [15 353607637 6 9 11621]\n",
            " [18 145226295 16 19 176]\n",
            " [4 1418157938 8 15 3813]\n",
            " [16 265928625 0 8 9441]\n",
            " [11 74353995 5 14 2408]\n",
            " [10 1023093346326257664 12 13 464]\n",
            " [5 1407612847 5 12 5612]]\n",
            "     0                    1   2   3         4\n",
            "0   12            145125358  11   2  44659119\n",
            "1    3            165448626   1   3     10472\n",
            "2   17            363188892  11  17     11364\n",
            "3    0   960860944875188226  11   6      6550\n",
            "4   13   920305972635037696  15   4      8933\n",
            "5    9           1978386403  10   5      9095\n",
            "6    8             96613617   4  11     31013\n",
            "7    2   988491670282014721  14   1      1374\n",
            "8    1           1113976070   3   0     32039\n",
            "9   14            145934849   2  18     10491\n",
            "10  19           2754315743   9  16      9727\n",
            "11   6            607860151   7   7      2269\n",
            "12   7   959398171922313217  13  10      1012\n",
            "13  15            353607637   6   9     11621\n",
            "14  18            145226295  16  19       176\n",
            "15   4           1418157938   8  15      3813\n",
            "16  16            265928625   0   8      9441\n",
            "17  11             74353995   5  14      2408\n",
            "18  10  1023093346326257664  12  13       464\n",
            "19   5           1407612847   5  12      5612\n"
          ],
          "name": "stdout"
        }
      ]
    },
    {
      "cell_type": "code",
      "metadata": {
        "id": "KD0lgIRrxwF1",
        "outputId": "6557b9c5-074a-41c5-b78d-a5e978c7fe72",
        "colab": {
          "base_uri": "https://localhost:8080/"
        }
      },
      "source": [
        "#kmeans - simples unsupervised clustering algo - yaad rakhne k lie - birds of same feather flock together\n",
        "# importing required libraries\n",
        "import pandas as pd\n",
        "import numpy as np\n",
        "import matplotlib.pyplot as plt\n",
        "%matplotlib inline\n",
        "from sklearn.cluster import KMeans\n",
        "\n",
        "print(data.head()) \n",
        "print(data.describe())"
      ],
      "execution_count": 32,
      "outputs": [
        {
          "output_type": "stream",
          "text": [
            "    0                   1   2   3         4\n",
            "0  12           145125358  11   2  44659119\n",
            "1   3           165448626   1   3     10472\n",
            "2  17           363188892  11  17     11364\n",
            "3   0  960860944875188226  11   6      6550\n",
            "4  13  920305972635037696  15   4      8933\n",
            "         0           1   2   3     4\n",
            "count   20          20  20  20    20\n",
            "unique  20          20  17  20    20\n",
            "top     19  2754315743  11  19  9727\n",
            "freq     1           1   3   1     1\n"
          ],
          "name": "stdout"
        }
      ]
    },
    {
      "cell_type": "code",
      "metadata": {
        "id": "jxjKmHeix8ZE",
        "outputId": "726d10ee-2ca7-4449-d4d7-6cf5b2bc5457",
        "colab": {
          "base_uri": "https://localhost:8080/",
          "height": 297
        }
      },
      "source": [
        "#Since K-Means is a distance-based algorithm, this difference of magnitude can create a problem. \n",
        "#So let’s first bring all the variables to the same magnitude:\n",
        "\n",
        "# standardizing the data\n",
        "from sklearn.preprocessing import StandardScaler\n",
        "scaler = StandardScaler()\n",
        "data_scaled = scaler.fit_transform(data)\n",
        "\n",
        "# statistics of scaled data\n",
        "pd.DataFrame(data_scaled).describe()"
      ],
      "execution_count": 33,
      "outputs": [
        {
          "output_type": "execute_result",
          "data": {
            "text/html": [
              "<div>\n",
              "<style scoped>\n",
              "    .dataframe tbody tr th:only-of-type {\n",
              "        vertical-align: middle;\n",
              "    }\n",
              "\n",
              "    .dataframe tbody tr th {\n",
              "        vertical-align: top;\n",
              "    }\n",
              "\n",
              "    .dataframe thead th {\n",
              "        text-align: right;\n",
              "    }\n",
              "</style>\n",
              "<table border=\"1\" class=\"dataframe\">\n",
              "  <thead>\n",
              "    <tr style=\"text-align: right;\">\n",
              "      <th></th>\n",
              "      <th>0</th>\n",
              "      <th>1</th>\n",
              "      <th>2</th>\n",
              "      <th>3</th>\n",
              "      <th>4</th>\n",
              "    </tr>\n",
              "  </thead>\n",
              "  <tbody>\n",
              "    <tr>\n",
              "      <th>count</th>\n",
              "      <td>2.000000e+01</td>\n",
              "      <td>2.000000e+01</td>\n",
              "      <td>2.000000e+01</td>\n",
              "      <td>2.000000e+01</td>\n",
              "      <td>2.000000e+01</td>\n",
              "    </tr>\n",
              "    <tr>\n",
              "      <th>mean</th>\n",
              "      <td>-2.220446e-17</td>\n",
              "      <td>-1.110223e-17</td>\n",
              "      <td>-7.771561e-17</td>\n",
              "      <td>-4.163336e-17</td>\n",
              "      <td>5.828671e-17</td>\n",
              "    </tr>\n",
              "    <tr>\n",
              "      <th>std</th>\n",
              "      <td>1.025978e+00</td>\n",
              "      <td>1.025978e+00</td>\n",
              "      <td>1.025978e+00</td>\n",
              "      <td>1.025978e+00</td>\n",
              "      <td>1.025978e+00</td>\n",
              "    </tr>\n",
              "    <tr>\n",
              "      <th>min</th>\n",
              "      <td>-1.647509e+00</td>\n",
              "      <td>-5.768747e-01</td>\n",
              "      <td>-1.748448e+00</td>\n",
              "      <td>-1.647509e+00</td>\n",
              "      <td>-2.303055e-01</td>\n",
              "    </tr>\n",
              "    <tr>\n",
              "      <th>25%</th>\n",
              "      <td>-8.237545e-01</td>\n",
              "      <td>-5.768747e-01</td>\n",
              "      <td>-7.294139e-01</td>\n",
              "      <td>-8.237545e-01</td>\n",
              "      <td>-2.300797e-01</td>\n",
              "    </tr>\n",
              "    <tr>\n",
              "      <th>50%</th>\n",
              "      <td>0.000000e+00</td>\n",
              "      <td>-5.768747e-01</td>\n",
              "      <td>7.508673e-02</td>\n",
              "      <td>0.000000e+00</td>\n",
              "      <td>-2.293973e-01</td>\n",
              "    </tr>\n",
              "    <tr>\n",
              "      <th>75%</th>\n",
              "      <td>8.237545e-01</td>\n",
              "      <td>-2.979637e-02</td>\n",
              "      <td>6.650539e-01</td>\n",
              "      <td>8.237545e-01</td>\n",
              "      <td>-2.292231e-01</td>\n",
              "    </tr>\n",
              "    <tr>\n",
              "      <th>max</th>\n",
              "      <td>1.647509e+00</td>\n",
              "      <td>1.855847e+00</td>\n",
              "      <td>1.684088e+00</td>\n",
              "      <td>1.647509e+00</td>\n",
              "      <td>4.358897e+00</td>\n",
              "    </tr>\n",
              "  </tbody>\n",
              "</table>\n",
              "</div>"
            ],
            "text/plain": [
              "                  0             1             2             3             4\n",
              "count  2.000000e+01  2.000000e+01  2.000000e+01  2.000000e+01  2.000000e+01\n",
              "mean  -2.220446e-17 -1.110223e-17 -7.771561e-17 -4.163336e-17  5.828671e-17\n",
              "std    1.025978e+00  1.025978e+00  1.025978e+00  1.025978e+00  1.025978e+00\n",
              "min   -1.647509e+00 -5.768747e-01 -1.748448e+00 -1.647509e+00 -2.303055e-01\n",
              "25%   -8.237545e-01 -5.768747e-01 -7.294139e-01 -8.237545e-01 -2.300797e-01\n",
              "50%    0.000000e+00 -5.768747e-01  7.508673e-02  0.000000e+00 -2.293973e-01\n",
              "75%    8.237545e-01 -2.979637e-02  6.650539e-01  8.237545e-01 -2.292231e-01\n",
              "max    1.647509e+00  1.855847e+00  1.684088e+00  1.647509e+00  4.358897e+00"
            ]
          },
          "metadata": {
            "tags": []
          },
          "execution_count": 33
        }
      ]
    },
    {
      "cell_type": "code",
      "metadata": {
        "id": "vDeEkxoOyAHy",
        "outputId": "cb5d99e0-a183-4549-f02a-8472c872e390",
        "colab": {
          "base_uri": "https://localhost:8080/"
        }
      },
      "source": [
        "# defining the kmeans function with initialization as k-means++\n",
        "kmeans = KMeans(n_clusters=3, init='k-means++') #kmeans++ is used to initialize the cluster centre used in kmeans\n",
        "\n",
        "# fitting the k means algorithm on scaled data\n",
        "y_kmeans = kmeans.fit(data_scaled)\n",
        "print(y_kmeans)"
      ],
      "execution_count": 34,
      "outputs": [
        {
          "output_type": "stream",
          "text": [
            "KMeans(algorithm='auto', copy_x=True, init='k-means++', max_iter=300,\n",
            "       n_clusters=3, n_init=10, n_jobs=None, precompute_distances='auto',\n",
            "       random_state=None, tol=0.0001, verbose=0)\n"
          ],
          "name": "stdout"
        }
      ]
    },
    {
      "cell_type": "code",
      "metadata": {
        "id": "-QckoOnZyFDV",
        "outputId": "92ae0b2e-00d9-43cc-d50f-c05ce90cdcd8",
        "colab": {
          "base_uri": "https://localhost:8080/"
        }
      },
      "source": [
        "# inertia on the fitted data means-> how well the formed cluster are\n",
        "kmeans.inertia_"
      ],
      "execution_count": 35,
      "outputs": [
        {
          "output_type": "execute_result",
          "data": {
            "text/plain": [
              "46.10021899741382"
            ]
          },
          "metadata": {
            "tags": []
          },
          "execution_count": 35
        }
      ]
    },
    {
      "cell_type": "code",
      "metadata": {
        "id": "ddky_GGRyIri",
        "outputId": "f2dec17c-09cc-43dd-97ba-ea79822d09eb",
        "colab": {
          "base_uri": "https://localhost:8080/",
          "height": 408
        }
      },
      "source": [
        "# fitting multiple k-means algorithms and storing the values in an empty list\n",
        "SSE = []\n",
        "for cluster in range(1,4):\n",
        "    kmeans = KMeans(n_jobs = -1, n_clusters = cluster, init='k-means++')\n",
        "    kmeans.fit(data_scaled)\n",
        "    SSE.append(kmeans.inertia_)\n",
        "\n",
        "# converting the results into a dataframe and plotting them\n",
        "frame = pd.DataFrame({'Cluster':range(1,4), 'SSE':SSE})\n",
        "plt.figure(figsize=(12,6))\n",
        "plt.plot(frame['Cluster'], frame['SSE'], marker='o')\n",
        "plt.xlabel('Number of clusters')\n",
        "plt.ylabel('Inertia')\n",
        "plt.title('Elbow method')\n",
        "plt.show()\n",
        "\n"
      ],
      "execution_count": 16,
      "outputs": [
        {
          "output_type": "display_data",
          "data": {
            "image/png": "[encoded data removed]",
            "text/plain": [
              "<Figure size 864x432 with 1 Axes>"
            ]
          },
          "metadata": {
            "tags": [],
            "needs_background": "light"
          }
        }
      ]
    },
    {
      "cell_type": "code",
      "metadata": {
        "id": "GC-5qEswyNZY",
        "outputId": "3cb09c2a-1c09-4df0-ea24-04e33f67ecdf",
        "colab": {
          "base_uri": "https://localhost:8080/"
        }
      },
      "source": [
        "pred = kmeans.predict(data_scaled)\n",
        "frame = pd.DataFrame(data_scaled)\n",
        "frame['cluster'] = pred\n",
        "dg=frame['cluster'].value_counts()\n",
        "dg"
      ],
      "execution_count": 36,
      "outputs": [
        {
          "output_type": "execute_result",
          "data": {
            "text/plain": [
              "0    14\n",
              "1     5\n",
              "2     1\n",
              "Name: cluster, dtype: int64"
            ]
          },
          "metadata": {
            "tags": []
          },
          "execution_count": 36
        }
      ]
    },
    {
      "cell_type": "code",
      "metadata": {
        "id": "uVwED2UPyXMQ",
        "outputId": "def1ff22-437b-4218-c02e-c2f62d4b8473",
        "colab": {
          "base_uri": "https://localhost:8080/",
          "height": 424
        }
      },
      "source": [
        "#Hirarchical clustering->usage of distance matrix , and every point is cluster in the first step.\n",
        "#2 closest point will be clubbed together according to the distance matrix\n",
        "print(__doc__)\n",
        "\n",
        "import time as time\n",
        "import numpy as np\n",
        "import matplotlib.pyplot as plt\n",
        "import mpl_toolkits.mplot3d.axes3d as p3\n",
        "from sklearn.cluster import AgglomerativeClustering\n",
        "from sklearn.neighbors import kneighbors_graph\n",
        "\n",
        "\n",
        "connectivity = kneighbors_graph(data_scaled, n_neighbors=3, include_self=False) #restricted to knn , structure is priority\n",
        "st = time.time()\n",
        "ward = AgglomerativeClustering(n_clusters=3, connectivity=connectivity,\n",
        "                               linkage='ward').fit(data_scaled)\n",
        "elapsed_time = time.time() - st\n",
        "label = ward.labels_\n",
        "print(\"Elapsed time: %.2fs\" % elapsed_time)\n",
        "print(\"Number of points: %i\" % label.size)\n",
        "\n",
        "\n",
        "# Plot result\n",
        "fig = plt.figure()\n",
        "ax = p3.Axes3D(fig)\n",
        "ax.view_init(7, -80)\n",
        "for l in np.unique(label):\n",
        "    ax.scatter(data_scaled[label == l, 0], data_scaled[label == l, 1], data_scaled[label == l, 2],\n",
        "               color=plt.cm.jet(float(l) / np.max(label + 1)),\n",
        "               s=20, edgecolor='k')\n",
        "plt.title('With connectivity constraints (time %.2fs)' % elapsed_time)\n",
        "\n",
        "plt.show()"
      ],
      "execution_count": 18,
      "outputs": [
        {
          "output_type": "stream",
          "text": [
            "Automatically created module for IPython interactive environment\n",
            "Elapsed time: 0.02s\n",
            "Number of points: 20\n"
          ],
          "name": "stdout"
        },
        {
          "output_type": "stream",
          "text": [
            "/usr/local/lib/python3.6/dist-packages/sklearn/cluster/_agglomerative.py:245: UserWarning: the number of connected components of the connectivity matrix is 2 > 1. Completing it to avoid stopping the tree early.\n",
            "  affinity='euclidean')\n"
          ],
          "name": "stderr"
        },
        {
          "output_type": "display_data",
          "data": {
            "image/png": "[encoded data removed]",
            "text/plain": [
              "<Figure size 432x288 with 1 Axes>"
            ]
          },
          "metadata": {
            "tags": [],
            "needs_background": "light"
          }
        }
      ]
    },
    {
      "cell_type": "code",
      "metadata": {
        "id": "XXOiPppjyif1",
        "outputId": "b13fed9f-1d4c-463c-dcfc-beab71c08f6b",
        "colab": {
          "base_uri": "https://localhost:8080/",
          "height": 302
        }
      },
      "source": [
        "#hierarchical clustering and representation in cluster dendogram\n",
        "import numpy as np\n",
        "\n",
        "from matplotlib import pyplot as plt\n",
        "from scipy.cluster.hierarchy import dendrogram\n",
        "\n",
        "from sklearn.cluster import AgglomerativeClustering\n",
        "\n",
        "\n",
        "def plot_dendrogram(model, **kwargs):\n",
        "    # Create linkage matrix and then plot the dendrogram\n",
        "\n",
        "    # create the counts of samples under each node\n",
        "    counts = np.zeros(model.children_.shape[0])\n",
        "    n_samples = len(model.labels_)\n",
        "    for i, merge in enumerate(model.children_):\n",
        "        current_count = 0\n",
        "        for child_idx in merge:\n",
        "            if child_idx < n_samples:\n",
        "                current_count += 1  # leaf node\n",
        "            else:\n",
        "                current_count += counts[child_idx - n_samples]\n",
        "        counts[i] = current_count\n",
        "\n",
        "    linkage_matrix = np.column_stack([model.children_, model.distances_,\n",
        "                                      counts]).astype(float)\n",
        "\n",
        "    # Plot the corresponding dendrogram\n",
        "    dendrogram(linkage_matrix, **kwargs)\n",
        "\n",
        "\n",
        "\n",
        "X = data_scaled\n",
        "\n",
        "# setting distance_threshold=0 ensures we compute the full tree.\n",
        "model = AgglomerativeClustering(distance_threshold=0, n_clusters=None)\n",
        "\n",
        "model = model.fit(X)\n",
        "plt.title('Hierarchical Clustering Dendrogram')\n",
        "# plot the top three levels of the dendrogram\n",
        "plot_dendrogram(model, truncate_mode='level', p=3)\n",
        "plt.xlabel(\"Number of points in node (or index of point if no parenthesis).\")\n",
        "plt.show()"
      ],
      "execution_count": 19,
      "outputs": [
        {
          "output_type": "display_data",
          "data": {
            "image/png": "[encoded data removed]",
            "text/plain": [
              "<Figure size 432x288 with 1 Axes>"
            ]
          },
          "metadata": {
            "tags": [],
            "needs_background": "light"
          }
        }
      ]
    },
    {
      "cell_type": "markdown",
      "metadata": {
        "id": "IqLdOeq6B9e4"
      },
      "source": [
        "Supervised Learning Algorithms (logistic regression & MLP Classifier)\n",
        "\n",
        "---\n",
        "\n"
      ]
    },
    {
      "cell_type": "code",
      "metadata": {
        "id": "gcT4r-It5Mic",
        "outputId": "2d0dc2a7-95a5-4e45-c54c-aeb2797b311c",
        "colab": {
          "base_uri": "https://localhost:8080/"
        }
      },
      "source": [
        "#PCA and Logistic regression , then representation of testing , training data\n",
        "import numpy as np \n",
        "import matplotlib.pyplot as plt \n",
        "import pandas as pd \n",
        "from sklearn.metrics import classification_report\n",
        "X=data_scaled #our data to X\n",
        "print('X ISSSS',X)\n",
        "y = [2,2,2,1,1,0,1,0,0,0,0,0,0,2,1,0,0,1,0,2] #output column\n",
        "#split the data 0.8->train , 0.2->test\n",
        "from sklearn.model_selection import train_test_split \n",
        "  \n",
        "X_train, X_test, y_train, y_test = train_test_split(X, y, test_size = 0.2, random_state = 0) \n",
        "#random_state = 0 , Controls the shuffling applied to the data before applying the split.\n",
        "\n",
        "#some preprocessing of data to fit everything in same magnitude\n",
        "from sklearn.preprocessing import StandardScaler \n",
        "sc = StandardScaler() \n",
        "  \n",
        "X_train = sc.fit_transform(X_train) \n",
        "X_test = sc.transform(X_test) \n",
        "# Apply PCA function on training ,testing of X\n",
        "\n",
        "from sklearn.decomposition import PCA \n",
        "  \n",
        "pca = PCA(n_components = 2) \n",
        "#pca 1->explains the most variance\n",
        "  \n",
        "X_train = pca.fit_transform(X_train) \n",
        "X_test = pca.transform(X_test) \n",
        "  \n",
        "explained_variance = pca.explained_variance_ratio_ \n",
        "\n",
        "print('explained_variance is',explained_variance)\n",
        "\n",
        "# Fitting Logistic Regression To the training set #basically a supervised learning algo for classification\n",
        "from sklearn.linear_model import LogisticRegression   \n",
        "  \n",
        "classifier = LogisticRegression(random_state = 0) \n",
        "classifier.fit(X_train, y_train) \n",
        "\n",
        "# Predicting the test set result using  \n",
        "# predict function under LogisticRegression  \n",
        "y_pred = classifier.predict(X_test) \n",
        "print('y_pred is',y_pred)\n",
        "\n",
        "#  test set of Y and predicted value. \n",
        "from sklearn.metrics import confusion_matrix \n",
        "  \n",
        "cm = confusion_matrix(y_test, y_pred)\n",
        "print(cm)\n",
        "print(classification_report(y_test, y_pred))"
      ],
      "execution_count": 46,
      "outputs": [
        {
          "output_type": "stream",
          "text": [
            "X ISSSS [[ 0.43355498 -0.57687468  0.61142048 -1.30066495  4.35889729]\n",
            " [-1.12724296 -0.57687468 -1.53391453 -1.12724296 -0.22924748]\n",
            " [ 1.30066495 -0.57687468  0.61142048  1.30066495 -0.22915581]\n",
            " [-1.64750894  1.70787058  0.61142048 -0.60697698 -0.2296505 ]\n",
            " [ 0.60697698  1.61143854  1.46955448 -0.95382097 -0.22940562]\n",
            " [-0.086711   -0.57687467  0.39688698 -0.78039897 -0.22938898]\n",
            " [-0.26013299 -0.57687468 -0.89031403  0.26013299 -0.22713666]\n",
            " [-1.30066495  1.77357121  1.25502098 -1.47408695 -0.2301824 ]\n",
            " [-1.47408695 -0.57687468 -1.10484753 -1.64750894 -0.22703123]\n",
            " [ 0.78039897 -0.57687468 -1.31938103  1.47408695 -0.22924552]\n",
            " [ 1.64750894 -0.57687467  0.18235348  1.12724296 -0.22932403]\n",
            " [-0.60697698 -0.57687468 -0.24671353 -0.43355498 -0.23009042]\n",
            " [-0.43355498  1.70439239  1.04048748  0.086711   -0.2302196 ]\n",
            " [ 0.95382097 -0.57687468 -0.46124703 -0.086711   -0.2291294 ]\n",
            " [ 1.47408695 -0.57687468  1.68408799  1.64750894 -0.2303055 ]\n",
            " [-0.95382097 -0.57687468 -0.03218003  0.95382097 -0.22993176]\n",
            " [ 1.12724296 -0.57687468 -1.74844804 -0.26013299 -0.22935342]\n",
            " [ 0.26013299 -0.57687468 -0.67578053  0.78039897 -0.23007614]\n",
            " [ 0.086711    1.85584744  0.82595398  0.60697698 -0.23027591]\n",
            " [-0.78039897 -0.57687468 -0.67578053  0.43355498 -0.22974689]]\n",
            "explained_variance is [0.45511246 0.24270157]\n",
            "y_pred is [0 0 0 0]\n",
            "[[2 0]\n",
            " [2 0]]\n",
            "              precision    recall  f1-score   support\n",
            "\n",
            "           0       0.50      1.00      0.67         2\n",
            "           2       0.00      0.00      0.00         2\n",
            "\n",
            "    accuracy                           0.50         4\n",
            "   macro avg       0.25      0.50      0.33         4\n",
            "weighted avg       0.25      0.50      0.33         4\n",
            "\n"
          ],
          "name": "stdout"
        },
        {
          "output_type": "stream",
          "text": [
            "/usr/local/lib/python3.6/dist-packages/sklearn/metrics/_classification.py:1272: UndefinedMetricWarning: Precision and F-score are ill-defined and being set to 0.0 in labels with no predicted samples. Use `zero_division` parameter to control this behavior.\n",
            "  _warn_prf(average, modifier, msg_start, len(result))\n"
          ],
          "name": "stderr"
        }
      ]
    },
    {
      "cell_type": "code",
      "metadata": {
        "id": "vFpOodId5kNh",
        "outputId": "25a68ae8-fb4c-4e3b-eb0a-dc17285a9fb2",
        "colab": {
          "base_uri": "https://localhost:8080/",
          "height": 370
        }
      },
      "source": [
        "\n",
        "# Predicting the training set \n",
        "# result through scatter plot  \n",
        "from matplotlib.colors import ListedColormap \n",
        "  \n",
        "X_set, y_set = X_train, y_train \n",
        "X1, X2 = np.meshgrid(np.arange(start = X_set[:, 0].min() - 1, \n",
        "                     stop = X_set[:, 0].max() + 1, step = 0.01), \n",
        "                     np.arange(start = X_set[:, 1].min() - 1, \n",
        "                     stop = X_set[:, 1].max() + 1, step = 0.01)) \n",
        "  \n",
        "plt.contourf(X1, X2, classifier.predict(np.array([X1.ravel(), \n",
        "             X2.ravel()]).T).reshape(X1.shape), alpha = 0.75, \n",
        "             cmap = ListedColormap(('yellow', 'white', 'aquamarine'))) \n",
        "  \n",
        "plt.xlim(X1.min(), X1.max()) \n",
        "plt.ylim(X2.min(), X2.max()) \n",
        "  \n",
        "for i, j in enumerate(np.unique(y_set)): \n",
        "    plt.scatter(X_set[y_set == j, 0], X_set[y_set == j, 1], \n",
        "                c = ListedColormap(('red', 'green', 'blue'))(i), label = j) \n",
        "  \n",
        "plt.title('Logistic Regression (Training set)') \n",
        "plt.xlabel('PC1') # for Xlabel \n",
        "plt.ylabel('PC2') # for Ylabel \n",
        "plt.legend() # to show legend \n",
        "  \n",
        "# show scatter plot \n",
        "plt.show() "
      ],
      "execution_count": 47,
      "outputs": [
        {
          "output_type": "stream",
          "text": [
            "*c* argument looks like a single numeric RGB or RGBA sequence, which should be avoided as value-mapping will have precedence in case its length matches with *x* & *y*.  Please use the *color* keyword-argument or provide a 2-D array with a single row if you intend to specify the same RGB or RGBA value for all points.\n",
            "*c* argument looks like a single numeric RGB or RGBA sequence, which should be avoided as value-mapping will have precedence in case its length matches with *x* & *y*.  Please use the *color* keyword-argument or provide a 2-D array with a single row if you intend to specify the same RGB or RGBA value for all points.\n",
            "*c* argument looks like a single numeric RGB or RGBA sequence, which should be avoided as value-mapping will have precedence in case its length matches with *x* & *y*.  Please use the *color* keyword-argument or provide a 2-D array with a single row if you intend to specify the same RGB or RGBA value for all points.\n"
          ],
          "name": "stderr"
        },
        {
          "output_type": "display_data",
          "data": {
            "image/png": "[encoded data removed]",
            "text/plain": [
              "<Figure size 432x288 with 1 Axes>"
            ]
          },
          "metadata": {
            "tags": [],
            "needs_background": "light"
          }
        }
      ]
    },
    {
      "cell_type": "code",
      "metadata": {
        "id": "gY4NFWaV51s6",
        "outputId": "95971da9-a2ea-437f-abe0-2dcf99445780",
        "colab": {
          "base_uri": "https://localhost:8080/",
          "height": 353
        }
      },
      "source": [
        " \n",
        "# Visualising the Test set results through scatter plot \n",
        "from matplotlib.colors import ListedColormap \n",
        "  \n",
        "X_set, y_set = X_test, y_test #same code as above , just the supplied data is changed\n",
        "  \n",
        "X1, X2 = np.meshgrid(np.arange(start = X_set[:, 0].min() - 1, \n",
        "                     stop = X_set[:, 0].max() + 1, step = 0.01), \n",
        "                     np.arange(start = X_set[:, 1].min() - 1, \n",
        "                     stop = X_set[:, 1].max() + 1, step = 0.01)) \n",
        "  \n",
        "plt.contourf(X1, X2, classifier.predict(np.array([X1.ravel(), \n",
        "             X2.ravel()]).T).reshape(X1.shape), alpha = 0.75, \n",
        "             cmap = ListedColormap(('yellow', 'white', 'aquamarine')))  \n",
        "  \n",
        "plt.xlim(X1.min(), X1.max()) \n",
        "plt.ylim(X2.min(), X2.max()) \n",
        "  \n",
        "for i, j in enumerate(np.unique(y_set)): \n",
        "    plt.scatter(X_set[y_set == j, 0], X_set[y_set == j, 1], \n",
        "                c = ListedColormap(('red', 'green', 'blue'))(i), label = j) \n",
        "  \n",
        "# title for scatter plot \n",
        "plt.title('Logistic Regression (Test set)')  \n",
        "plt.xlabel('PC1') # for Xlabel \n",
        "plt.ylabel('PC2') # for Ylabel \n",
        "plt.legend() \n",
        "  \n",
        "# show scatter plot \n",
        "plt.show()"
      ],
      "execution_count": 22,
      "outputs": [
        {
          "output_type": "stream",
          "text": [
            "*c* argument looks like a single numeric RGB or RGBA sequence, which should be avoided as value-mapping will have precedence in case its length matches with *x* & *y*.  Please use the *color* keyword-argument or provide a 2-D array with a single row if you intend to specify the same RGB or RGBA value for all points.\n",
            "*c* argument looks like a single numeric RGB or RGBA sequence, which should be avoided as value-mapping will have precedence in case its length matches with *x* & *y*.  Please use the *color* keyword-argument or provide a 2-D array with a single row if you intend to specify the same RGB or RGBA value for all points.\n"
          ],
          "name": "stderr"
        },
        {
          "output_type": "display_data",
          "data": {
            "image/png": "[encoded data removed]",
            "text/plain": [
              "<Figure size 432x288 with 1 Axes>"
            ]
          },
          "metadata": {
            "tags": [],
            "needs_background": "light"
          }
        }
      ]
    },
    {
      "cell_type": "code",
      "metadata": {
        "id": "kTPzo7TK97Qr",
        "outputId": "ef74274a-c089-43d5-f030-7b56d6fc838e",
        "colab": {
          "base_uri": "https://localhost:8080/"
        }
      },
      "source": [
        "#MLP Classifier- supervised algo\n",
        "#lib import\n",
        "from sklearn.neural_network import MLPClassifier\n",
        "from sklearn.datasets import make_classification\n",
        "from sklearn.model_selection import train_test_split\n",
        "#train test\n",
        "X, y = make_classification(n_samples=100, random_state=1)\n",
        "X_train, X_test, y_train, y_test = train_test_split(X, y, stratify=y,random_state=1)\n",
        "#model train\n",
        "clf = MLPClassifier(random_state=1, max_iter=300).fit(X_train, y_train)\n",
        "print('clf is',clf)\n",
        "#accuracy score of model\n",
        "clf.score(X_test, y_test) #Return the mean accuracy on the given test data and labels\n"
      ],
      "execution_count": 48,
      "outputs": [
        {
          "output_type": "stream",
          "text": [
            "clf is MLPClassifier(activation='relu', alpha=0.0001, batch_size='auto', beta_1=0.9,\n",
            "              beta_2=0.999, early_stopping=False, epsilon=1e-08,\n",
            "              hidden_layer_sizes=(100,), learning_rate='constant',\n",
            "              learning_rate_init=0.001, max_fun=15000, max_iter=300,\n",
            "              momentum=0.9, n_iter_no_change=10, nesterovs_momentum=True,\n",
            "              power_t=0.5, random_state=1, shuffle=True, solver='adam',\n",
            "              tol=0.0001, validation_fraction=0.1, verbose=False,\n",
            "              warm_start=False)\n"
          ],
          "name": "stdout"
        },
        {
          "output_type": "execute_result",
          "data": {
            "text/plain": [
              "0.88"
            ]
          },
          "metadata": {
            "tags": []
          },
          "execution_count": 48
        }
      ]
    },
    {
      "cell_type": "code",
      "metadata": {
        "id": "33SSYJc794j8"
      },
      "source": [
        "\n"
      ],
      "execution_count": null,
      "outputs": []
    }
  ]
}